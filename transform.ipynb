{
 "cells": [
  {
   "cell_type": "code",
   "execution_count": 5,
   "metadata": {
    "collapsed": false
   },
   "outputs": [],
   "source": [
    "import csv\n",
    "import re\n",
    "import string\n",
    "inputfile = open(\"plot.list\",\"r\")\n",
    "outputfile = open(\"plot_normalized.list\",\"w\")\n",
    "\n",
    "plot = ''\n",
    "with open(\"plot.list\") as infile:\n",
    "    for line in infile:\n",
    "        if (line[0] != '\\n'):\n",
    "            if(line[0] != 'B'):\n",
    "                if (line[0] == '-'):\n",
    "                    plot += '\\n'\n",
    "                    outputfile.write(plot)\n",
    "                    plot = ''\n",
    "                    continue              \n",
    "                else:\n",
    "                    line = line.rstrip()\n",
    "                    if(line[0:2]==\"MV\"):\n",
    "                        plot += line[4:]\n",
    "                        plot += \":::\"\n",
    "                    else:\n",
    "                        if(line[0:2]==\"PL\"):\n",
    "                            plot += line[4:]\n",
    "                            plot += ' '\n",
    "outputfile.close()"
   ]
  },
  {
   "cell_type": "code",
   "execution_count": null,
   "metadata": {
    "collapsed": true
   },
   "outputs": [],
   "source": []
  },
  {
   "cell_type": "code",
   "execution_count": null,
   "metadata": {
    "collapsed": true
   },
   "outputs": [],
   "source": []
  },
  {
   "cell_type": "code",
   "execution_count": null,
   "metadata": {
    "collapsed": true
   },
   "outputs": [],
   "source": []
  }
 ],
 "metadata": {
  "kernelspec": {
   "display_name": "Python 2",
   "language": "python",
   "name": "python2"
  },
  "language_info": {
   "codemirror_mode": {
    "name": "ipython",
    "version": 2
   },
   "file_extension": ".py",
   "mimetype": "text/x-python",
   "name": "python",
   "nbconvert_exporter": "python",
   "pygments_lexer": "ipython2",
   "version": "2.7.9"
  }
 },
 "nbformat": 4,
 "nbformat_minor": 0
}
